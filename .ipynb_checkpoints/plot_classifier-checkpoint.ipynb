{
 "cells": [
  {
   "cell_type": "code",
   "execution_count": 1,
   "metadata": {},
   "outputs": [],
   "source": [
    "import numpy as np\n",
    "import matplotlib.pyplot as plt\n",
    "\n",
    "def plot_classifier(clf, X, y, mesh_step_size=0.01):\n",
    "    # X: 2d np array\n",
    "    # y: 1d np array\n",
    "    min_x1, max_x1 = X[:,0].min() - 1, X[:,0].max() + 1\n",
    "    min_x2, max_x2 = X[:,1].min() - 1, X[:,1].max() + 1\n",
    "    \n",
    "    x1_vals, x2_vals = np.meshgrid(np.arange(min_x1, max_x1, mesh_step_size), np.arange(min_x2, max_x2, mesh_step_size))\n",
    "    \n",
    "    y_preds = clf.predict(np.c_[x1_vals.ravel(), x2_vals.ravel()]).reshape(x1_vals.shape)\n",
    "    \n",
    "    plt.figure()\n",
    "    plt.pcolormesh(x1_vals, x2_vals, y_preds, cmap=plt.cm.Spectral, shading='auto', alpha=0.05)\n",
    "    plt.scatter(X[:,0], X[:,1], c=y, s=50, ec='black', lw=1, cmap=plt.cm.Spectral, alpha=1.0)\n",
    "\n",
    "    plt.xlim(min_x1, max_x1)\n",
    "    plt.ylim(min_x2, max_x2)\n",
    "\n",
    "    plt.xticks((np.arange(int(min_x1), int(max_x1), 1)))\n",
    "    plt.yticks((np.arange(int(min_x2), int(max_x2), 1)))\n",
    "\n",
    "    plt.show()"
   ]
  }
 ],
 "metadata": {
  "kernelspec": {
   "display_name": "Python 3",
   "language": "python",
   "name": "python3"
  },
  "language_info": {
   "codemirror_mode": {
    "name": "ipython",
    "version": 3
   },
   "file_extension": ".py",
   "mimetype": "text/x-python",
   "name": "python",
   "nbconvert_exporter": "python",
   "pygments_lexer": "ipython3",
   "version": "3.8.3"
  }
 },
 "nbformat": 4,
 "nbformat_minor": 4
}
